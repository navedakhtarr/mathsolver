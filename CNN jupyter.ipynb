{
 "cells": [
  {
   "cell_type": "code",
   "execution_count": 1,
   "metadata": {},
   "outputs": [],
   "source": [
    "import pandas as pd\n",
    "import numpy as np\n",
    "import cv2\n",
    "import os"
   ]
  },
  {
   "cell_type": "code",
   "execution_count": 2,
   "metadata": {},
   "outputs": [],
   "source": [
    "from keras.layers import Conv2D, MaxPooling2D, Dense, Flatten, Dropout\n",
    "from keras.models import Sequential, model_from_json\n",
    "from keras.utils import to_categorical\n",
    "from os.path import isfile, join\n",
    "from keras import backend as K\n",
    "from os import listdir\n",
    "from PIL import Image"
   ]
  },
  {
   "cell_type": "code",
   "execution_count": 3,
   "metadata": {},
   "outputs": [],
   "source": [
    "index_by_directory = {\n",
    "    '0': 0,\n",
    "    '1': 1,\n",
    "    '2': 2,\n",
    "    '3': 3,\n",
    "    '4': 4,\n",
    "    '5': 5,\n",
    "    '6': 6,\n",
    "    '7': 7,\n",
    "    '8': 8,\n",
    "    '9': 9,\n",
    "    '+': 10,\n",
    "    '-': 11,\n",
    "    'x': 12\n",
    "}"
   ]
  },
  {
   "cell_type": "code",
   "execution_count": 4,
   "metadata": {},
   "outputs": [],
   "source": [
    "def get_index_by_directory(directory):\n",
    "    return index_by_directory[directory]"
   ]
  },
  {
   "cell_type": "code",
   "execution_count": 6,
   "metadata": {},
   "outputs": [],
   "source": [
    "def load_images_from_folder(folder):\n",
    "    train_data = []\n",
    "    for filename in os.listdir(folder):\n",
    "        img = cv2.imread(os.path.join(folder,filename), cv2.IMREAD_GRAYSCALE) # Convert to Image to Grayscale\n",
    "        img = ~img # Invert the bits of image 255 -> 0\n",
    "        if img is not None:\n",
    "            _, thresh = cv2.threshold(img, 127, 255, cv2.THRESH_BINARY) # Set bits > 127 to 1 and <= 127 to 0\n",
    "            ctrs, _ = cv2.findContours(thresh, cv2.RETR_EXTERNAL, cv2.CHAIN_APPROX_NONE)\n",
    "            cnt = sorted(ctrs, key=lambda ctr: cv2.boundingRect(ctr)[0]) # Sort by x\n",
    "            maxi = 0\n",
    "            for c in cnt:\n",
    "                x, y, w, h = cv2.boundingRect(c)\n",
    "                maxi = max(w*h, maxi)\n",
    "                if maxi == w*h:\n",
    "                    x_max = x\n",
    "                    y_max = y\n",
    "                    w_max = w\n",
    "                    h_max = h\n",
    "            im_crop = thresh[y_max:y_max+h_max+10, x_max:x_max+w_max+10] # Crop the image as most as possible\n",
    "            im_resize = cv2.resize(im_crop, (28, 28)) # Resize to (28, 28)\n",
    "            im_resize = np.reshape(im_resize, (784, 1)) # Flat the matrix\n",
    "            train_data.append(im_resize)\n",
    "    return train_data"
   ]
  },
  {
   "cell_type": "code",
   "execution_count": 7,
   "metadata": {},
   "outputs": [],
   "source": [
    "def load_all_imgs():\n",
    "    dataset_dir = \"./datasets/\"\n",
    "    directory_list = listdir(dataset_dir)\n",
    "    first = True\n",
    "    data = []\n",
    "\n",
    "    print('Exporting images...')\n",
    "    for directory in directory_list:\n",
    "        print(directory)\n",
    "        if first:\n",
    "            first = False\n",
    "            data = load_images_from_folder(dataset_dir + directory)\n",
    "            for i in range(0, len(data)):\n",
    "                data[i] = np.append(data[i], [str(get_index_by_directory(directory))])\n",
    "            continue\n",
    "\n",
    "        aux_data = load_images_from_folder(dataset_dir + directory)\n",
    "        for i in range(0, len(aux_data)):\n",
    "            aux_data[i] = np.append(aux_data[i], [str(get_index_by_directory(directory))])\n",
    "        data = np.concatenate((data, aux_data))\n",
    "\n",
    "    df=pd.DataFrame(data,index=None)\n",
    "    df.to_csv('model/train_data.csv',index=False)"
   ]
  },
  {
   "cell_type": "code",
   "execution_count": null,
   "metadata": {},
   "outputs": [],
   "source": []
  }
 ],
 "metadata": {
  "kernelspec": {
   "display_name": "Python 3",
   "language": "python",
   "name": "python3"
  },
  "language_info": {
   "codemirror_mode": {
    "name": "ipython",
    "version": 3
   },
   "file_extension": ".py",
   "mimetype": "text/x-python",
   "name": "python",
   "nbconvert_exporter": "python",
   "pygments_lexer": "ipython3",
   "version": "3.8.5"
  }
 },
 "nbformat": 4,
 "nbformat_minor": 5
}
